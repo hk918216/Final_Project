{
 "cells": [
  {
   "cell_type": "code",
   "execution_count": 4,
   "id": "df91200e",
   "metadata": {},
   "outputs": [],
   "source": [
    "import numpy as np\n",
    "import pandas as pd\n",
    "import torch\n",
    "\n",
    "from pytorch_transformers import BertTokenizer, BertForSequenceClassification, BertConfig"
   ]
  },
  {
   "cell_type": "code",
   "execution_count": 5,
   "id": "e90b61ce",
   "metadata": {},
   "outputs": [
    {
     "name": "stderr",
     "output_type": "stream",
     "text": [
      "100%|█████████████████████████████████████████████████████████████████████████████| 625/625 [00:00<00:00, 100906.12B/s]\n",
      "100%|████████████████████████████████████████████████████████████████| 714314041/714314041 [02:36<00:00, 4563564.94B/s]\n",
      "C:\\Users\\admin\\Anaconda3\\envs\\nlp\\lib\\site-packages\\torch\\nn\\modules\\sparse.py:139: UserWarning: Failed to initialize NumPy: module compiled against API version 0x10 but this version of numpy is 0xe (Triggered internally at  ..\\torch\\csrc\\utils\\tensor_numpy.cpp:68.)\n",
      "  self.weight = Parameter(torch.empty((num_embeddings, embedding_dim), **factory_kwargs))\n"
     ]
    }
   ],
   "source": [
    "model = BertForSequenceClassification.from_pretrained('bert-base-multilingual-cased')"
   ]
  },
  {
   "cell_type": "code",
   "execution_count": 8,
   "id": "deeec488",
   "metadata": {},
   "outputs": [],
   "source": [
    "model.to(device)\n",
    "model.train()\n",
    "\n",
    "for epoch in range(100):\n",
    "#     Datasets = X, Y\n",
    "    loss, logits = model(X, labels = Y) # X = 두개의 문장 Y = 두 문장이 연속인가\n",
    "    pred = torch.argmax(F.softmax(logits), dim=1)\n",
    "    optimizer.zero_grad()\n",
    "    loss.backward()\n",
    "    optimizer.step()"
   ]
  },
  {
   "cell_type": "code",
   "execution_count": 10,
   "id": "99de8221",
   "metadata": {},
   "outputs": [],
   "source": [
    "import torch.nn as nn"
   ]
  },
  {
   "cell_type": "code",
   "execution_count": 11,
   "id": "c9d42d8c",
   "metadata": {},
   "outputs": [],
   "source": [
    "class Decoder(nn.Module):\n",
    "    def __init__(self):\n",
    "        super().__init__()\n",
    "        self.selfatten = MultiHeadAttention()\n",
    "        self.layernorm_1 = LayerNorm()\n",
    "        self.feedforward = Poswise_FeedForward()\n",
    "        self.layernorm_2 = LayerNorm()\n",
    "        \n",
    "    def forward(self, decoder_input, masking):\n",
    "        output, attn_prob = self.selfattn(decoder_input, decoder_input, decoder_input, masking)\n",
    "        output = self.layernorm_1(output+decoder_input)\n",
    "        output = self.feedforqard(output)\n",
    "        output = self.layernorm_2(output2+output)\n",
    "        \n",
    "        return output3, attn_prob"
   ]
  },
  {
   "cell_type": "code",
   "execution_count": null,
   "id": "6bc8f61b",
   "metadata": {},
   "outputs": [],
   "source": []
  }
 ],
 "metadata": {
  "kernelspec": {
   "display_name": "nlp",
   "language": "python",
   "name": "nlp"
  },
  "language_info": {
   "codemirror_mode": {
    "name": "ipython",
    "version": 3
   },
   "file_extension": ".py",
   "mimetype": "text/x-python",
   "name": "python",
   "nbconvert_exporter": "python",
   "pygments_lexer": "ipython3",
   "version": "3.10.4"
  }
 },
 "nbformat": 4,
 "nbformat_minor": 5
}
