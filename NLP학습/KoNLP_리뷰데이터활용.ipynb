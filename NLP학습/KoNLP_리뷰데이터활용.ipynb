{
 "cells": [
  {
   "cell_type": "code",
   "execution_count": 3,
   "id": "44b0136f",
   "metadata": {},
   "outputs": [],
   "source": [
    "import os"
   ]
  },
  {
   "cell_type": "code",
   "execution_count": 4,
   "id": "c4f148e9",
   "metadata": {},
   "outputs": [],
   "source": [
    "def read_data(filename):\n",
    "    with open(filename, 'r', encoding='cp949') as f:\n",
    "        data = [line.split('\\t') for line in f.read().splitlines()]\n",
    "        data = data[1:]\n",
    "    return data\n",
    "\n",
    "data = read_data(r'./data/감정샘플.txt')\n",
    "data_text = [line[1] for line in data]\n",
    "data_senti = [line[2] for line in data] # 이 값이 1이면 긍정"
   ]
  },
  {
   "cell_type": "markdown",
   "id": "6506c9b5",
   "metadata": {},
   "source": [
    "2. 데이터를 test와 train으로 분류"
   ]
  },
  {
   "cell_type": "code",
   "execution_count": 3,
   "id": "df847e57",
   "metadata": {},
   "outputs": [],
   "source": [
    "from sklearn.model_selection import train_test_split"
   ]
  },
  {
   "cell_type": "code",
   "execution_count": 4,
   "id": "408de88f",
   "metadata": {},
   "outputs": [],
   "source": [
    "train_input, test_input, train_target, test_target = train_test_split(data_text, \n",
    "                                                    data_senti,\n",
    "                                                   stratify = data_senti,\n",
    "                                                   test_size=0.3,\n",
    "                                                    random_state=158)"
   ]
  },
  {
   "cell_type": "code",
   "execution_count": 5,
   "id": "74d1490e",
   "metadata": {},
   "outputs": [],
   "source": [
    "from collections import Counter"
   ]
  },
  {
   "cell_type": "code",
   "execution_count": 6,
   "id": "f7eede08",
   "metadata": {},
   "outputs": [
    {
     "name": "stdout",
     "output_type": "stream",
     "text": [
      "train_target_freq = Counter({'1': 69158, '0': 69120})\n",
      "test_target_treq =  Counter({'1': 29639, '0': 29624})\n"
     ]
    }
   ],
   "source": [
    "train_target_freq = Counter(train_target)\n",
    "print('train_target_freq =', train_target_freq)\n",
    "test_target_treq = Counter(test_target)\n",
    "print('test_target_treq = ', test_target_treq)"
   ]
  },
  {
   "cell_type": "markdown",
   "id": "f8f39778",
   "metadata": {},
   "source": [
    "3. 피처 벡터화를 진행합니다."
   ]
  },
  {
   "cell_type": "code",
   "execution_count": 7,
   "id": "a476584a",
   "metadata": {},
   "outputs": [],
   "source": [
    "from sklearn.feature_extraction.text import CountVectorizer"
   ]
  },
  {
   "cell_type": "code",
   "execution_count": 8,
   "id": "f3ca6bcb",
   "metadata": {},
   "outputs": [
    {
     "name": "stdout",
     "output_type": "stream",
     "text": [
      "특성 개수 : 11197\n",
      "처음 20개 특성 :\n",
      " ['10점', '1빠', 'ai', 'cgv', 'ebs', 'jtbc', 'kbs', 'la', 'mb', 'mbc', 'naver', 'new', 'ok', 'sbs', 'sns', 'tv', 'usb', 'ㄴㄴ', 'ㄷㄷ', 'ㅂㄷㅂㄷ']\n"
     ]
    },
    {
     "name": "stderr",
     "output_type": "stream",
     "text": [
      "C:\\Users\\admin\\Anaconda3\\envs\\nlp\\lib\\site-packages\\sklearn\\utils\\deprecation.py:87: FutureWarning: Function get_feature_names is deprecated; get_feature_names is deprecated in 1.0 and will be removed in 1.2. Please use get_feature_names_out instead.\n",
      "  warnings.warn(msg, category=FutureWarning)\n"
     ]
    }
   ],
   "source": [
    "# CountVectorizer\n",
    "vect = CountVectorizer(min_df = 5).fit(train_input)\n",
    "X_train = vect.transform(train_input)\n",
    "\n",
    "feature_names = vect.get_feature_names()\n",
    "print('특성 개수 :', len(feature_names))\n",
    "print('처음 20개 특성 :\\n', feature_names[:20])"
   ]
  },
  {
   "cell_type": "code",
   "execution_count": 32,
   "id": "4fe03d23",
   "metadata": {},
   "outputs": [
    {
     "data": {
      "text/plain": [
       "<138278x11197 sparse matrix of type '<class 'numpy.int64'>'\n",
       "\twith 767646 stored elements in Compressed Sparse Row format>"
      ]
     },
     "execution_count": 32,
     "metadata": {},
     "output_type": "execute_result"
    }
   ],
   "source": [
    "X_train"
   ]
  },
  {
   "cell_type": "code",
   "execution_count": 10,
   "id": "ca184abb",
   "metadata": {},
   "outputs": [],
   "source": [
    "# Tfid 벡터화\n",
    "from sklearn.feature_extraction.text import TfidfVectorizer\n",
    "\n",
    "vect = TfidfVectorizer(min_df = 5, ngram_range=(1,2)).fit(train_input)\n",
    "X_train = vect.transform(train_input)"
   ]
  },
  {
   "cell_type": "markdown",
   "id": "abe33d0f",
   "metadata": {},
   "source": [
    "4. 벡터화 데이터를 회귀분석을 통해 정확도 검증"
   ]
  },
  {
   "cell_type": "markdown",
   "id": "720dce82",
   "metadata": {},
   "source": [
    "- 회귀분석 이용. 교차검증 위해 cross_val_score 시행 하고 GridSearch로 여러 하이퍼파라미터로 실행"
   ]
  },
  {
   "cell_type": "code",
   "execution_count": 11,
   "id": "64dfbefd",
   "metadata": {},
   "outputs": [],
   "source": [
    "import pandas as pd\n",
    "from sklearn.model_selection import cross_val_score\n",
    "from sklearn.linear_model import LogisticRegression"
   ]
  },
  {
   "cell_type": "code",
   "execution_count": 12,
   "id": "4a3cd166",
   "metadata": {},
   "outputs": [
    {
     "name": "stdout",
     "output_type": "stream",
     "text": [
      "교차 검증 점수 : [0.81949667 0.81884582 0.82021984 0.81894775 0.81645272]\n",
      "교차 검증 점수 평균 : 0.8187925614728817\n",
      "최고 교차 검증 점수 : 0.819\n",
      "최적의 매개변수 : {'C': 1}\n"
     ]
    }
   ],
   "source": [
    "y_train = pd.Series(train_target)\n",
    "scores = cross_val_score(LogisticRegression(solver='liblinear'), X_train, y_train, cv=5)\n",
    "print('교차 검증 점수 :', scores)\n",
    "print('교차 검증 점수 평균 :', scores.mean())\n",
    "\n",
    "from sklearn.model_selection import GridSearchCV\n",
    "param_grid = {'C' : [0.01, 0.1 ,1, 3, 5]}\n",
    "grid = GridSearchCV(LogisticRegression(solver='liblinear'), param_grid, cv=5)\n",
    "grid.fit(X_train, y_train)\n",
    "print('최고 교차 검증 점수 :', round(grid.best_score_, 3))\n",
    "print('최적의 매개변수 :', grid.best_params_)"
   ]
  },
  {
   "cell_type": "code",
   "execution_count": 33,
   "id": "b09a55b1",
   "metadata": {},
   "outputs": [
    {
     "data": {
      "text/plain": [
       "0         1\n",
       "1         1\n",
       "2         0\n",
       "3         0\n",
       "4         0\n",
       "         ..\n",
       "138273    0\n",
       "138274    0\n",
       "138275    0\n",
       "138276    1\n",
       "138277    0\n",
       "Length: 138278, dtype: object"
      ]
     },
     "execution_count": 33,
     "metadata": {},
     "output_type": "execute_result"
    }
   ],
   "source": [
    "y_train"
   ]
  },
  {
   "cell_type": "markdown",
   "id": "467ea9c2",
   "metadata": {},
   "source": [
    "5. Test데이터를 검증 모델에 넣어 정확도를 확인해 봅니다. \n",
    "- 반드시 유의해야 할 점은 테스트 데이터에서 CountVectorizer를 적용할 때는 반드시 학습 데이터를 이용해 fit()이 수행된 CountVectorizer객체를 이용해 테스트 데이터를 변환(transform) 해야 한다는 것입니다. 그래야만 학습 시 설정된 CountVectorizer의 피처 개수와 테스트 데이터를 CountVectorizer로 변환할 피처 개수가 같아집니다. 테스트 데이터의 피처 벡터화는 학습 데이터에 사용된 CountVectorizer객체 변수인 cnt_vect.traform()을 이용해 반환합니다."
   ]
  },
  {
   "cell_type": "code",
   "execution_count": 13,
   "id": "f88605a2",
   "metadata": {},
   "outputs": [
    {
     "name": "stdout",
     "output_type": "stream",
     "text": [
      "테스트 데이터 점수 : 0.8171877900207549\n"
     ]
    }
   ],
   "source": [
    "X_test = vect.transform(test_input)\n",
    "y_test = pd.Series(test_target)\n",
    "print('테스트 데이터 점수 :', grid.score(X_test, y_test))"
   ]
  },
  {
   "cell_type": "markdown",
   "id": "3bdcd909",
   "metadata": {},
   "source": [
    "6. 신규 데이터 넣어보기"
   ]
  },
  {
   "cell_type": "code",
   "execution_count": 14,
   "id": "1ac5d53f",
   "metadata": {},
   "outputs": [],
   "source": [
    "import rhinoMorph"
   ]
  },
  {
   "cell_type": "code",
   "execution_count": 37,
   "id": "e1f7c287",
   "metadata": {},
   "outputs": [
    {
     "name": "stdout",
     "output_type": "stream",
     "text": [
      "filepath:  C:\\Users\\admin\\Anaconda3\\envs\\nlp\\Lib\\site-packages\n",
      "classpath:  C:\\Users\\admin\\Anaconda3\\envs\\nlp\\Lib\\site-packages\\rhinoMorph/lib/rhino.jar\n",
      "JVM is already started~\n",
      "RHINO started!\n",
      "rn\n",
      " <java class 'rhino.RHINO'>\n"
     ]
    }
   ],
   "source": [
    "rn = rhinoMorph.startRhino()\n",
    "print('rn\\n', rn)\n",
    "new_input = '오늘은 정말 재미있는 하루구나!'"
   ]
  },
  {
   "cell_type": "code",
   "execution_count": 51,
   "id": "fda6b28c",
   "metadata": {},
   "outputs": [
    {
     "name": "stdout",
     "output_type": "stream",
     "text": [
      "1.0\n",
      "['1']\n",
      "<class 'numpy.ndarray'>\n",
      "긍정적인 글입니다.\n"
     ]
    }
   ],
   "source": [
    "# 입력데이터 형태소 분석하기\n",
    "inputdata = []\n",
    "morphed_input = rhinoMorph.onlyMorph_list(rn, new_input, pos=['NNG','NNP','VV','VA','ZR',\n",
    "                                                              'IC','MM','MAG','MAJ'])\n",
    "morphed_input = ' '.join(morphed_input)  # 한개의 문자열로 만들기\n",
    "inputdata.append(morphed_input)          # 분석 결과를 리스트로 만들기\n",
    "X_input = vect.transform(inputdata)\n",
    "print(float(grid.predict(X_input)))\n",
    "result = grid.predict(X_input) # 0은 부정, 1은 긍정\n",
    "print(result)\n",
    "print(type(result))\n",
    "if result == '0':\n",
    "    print('부정적인 글입니다.')\n",
    "else:\n",
    "    print('긍정적인 글입니다.')"
   ]
  },
  {
   "cell_type": "code",
   "execution_count": 53,
   "id": "d306986e",
   "metadata": {},
   "outputs": [
    {
     "name": "stdout",
     "output_type": "stream",
     "text": [
      "filepath:  C:\\Users\\admin\\Anaconda3\\envs\\nlp\\Lib\\site-packages\n",
      "classpath:  C:\\Users\\admin\\Anaconda3\\envs\\nlp\\Lib\\site-packages\\rhinoMorph/lib/rhino.jar\n",
      "JVM is already started~\n",
      "RHINO started!\n",
      "rn\n",
      " <java class 'rhino.RHINO'>\n",
      "1.0\n",
      "['1']\n",
      "<class 'numpy.ndarray'>\n",
      "긍정적인 글입니다.\n"
     ]
    }
   ],
   "source": [
    "# 한번에 모아서 실행\n",
    "import rhinoMorph  \n",
    "\n",
    "rn = rhinoMorph.startRhino()\n",
    "print('rn\\n', rn)\n",
    "new_input = '나 오늘 행복해'\n",
    "\n",
    "inputdata = []\n",
    "morphed_input = rhinoMorph.onlyMorph_list(rn, new_input, pos=['NNG','NNP','VV','VA','ZR',\n",
    "                                                              'IC','MM','MAG','MAJ'])\n",
    "morphed_input = ' '.join(morphed_input)  # 한개의 문자열로 만들기\n",
    "inputdata.append(morphed_input)          # 분석 결과를 리스트로 만들기\n",
    "X_input = vect.transform(inputdata)\n",
    "print(float(grid.predict(X_input)))\n",
    "result = grid.predict(X_input) # 0은 부정, 1은 긍정\n",
    "print(result)\n",
    "print(type(result))\n",
    "if result == '0':\n",
    "    print('부정적인 글입니다.')\n",
    "else:\n",
    "    print('긍정적인 글입니다.')"
   ]
  },
  {
   "cell_type": "code",
   "execution_count": null,
   "id": "87d61db5",
   "metadata": {},
   "outputs": [],
   "source": []
  },
  {
   "cell_type": "code",
   "execution_count": null,
   "id": "ccf24747",
   "metadata": {},
   "outputs": [],
   "source": []
  },
  {
   "cell_type": "code",
   "execution_count": null,
   "id": "ea83a1a0",
   "metadata": {},
   "outputs": [],
   "source": []
  }
 ],
 "metadata": {
  "kernelspec": {
   "display_name": "nlp",
   "language": "python",
   "name": "nlp"
  },
  "language_info": {
   "codemirror_mode": {
    "name": "ipython",
    "version": 3
   },
   "file_extension": ".py",
   "mimetype": "text/x-python",
   "name": "python",
   "nbconvert_exporter": "python",
   "pygments_lexer": "ipython3",
   "version": "3.10.4"
  }
 },
 "nbformat": 4,
 "nbformat_minor": 5
}
