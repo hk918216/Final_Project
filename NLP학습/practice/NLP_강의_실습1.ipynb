{
 "cells": [
  {
   "cell_type": "markdown",
   "id": "8f824bcd",
   "metadata": {},
   "source": [
    "# 1. 토큰화 "
   ]
  },
  {
   "cell_type": "markdown",
   "id": "d30625d6",
   "metadata": {},
   "source": [
    "### 표준 토큰화(Treebank Tokenization)"
   ]
  },
  {
   "cell_type": "code",
   "execution_count": 1,
   "id": "cd01e07c",
   "metadata": {},
   "outputs": [],
   "source": [
    "from nltk.tokenize import TreebankWordTokenizer"
   ]
  },
  {
   "cell_type": "code",
   "execution_count": 3,
   "id": "e258cda2",
   "metadata": {},
   "outputs": [
    {
     "name": "stdout",
     "output_type": "stream",
     "text": [
      "['Model-based', 'RL', 'do', \"n't\", 'need', 'ad', 'value', 'function', 'fro', 'the', 'policy']\n"
     ]
    }
   ],
   "source": [
    "tokenizer = TreebankWordTokenizer()\n",
    "text = \"Model-based RL don't need ad value function fro the policy\"\n",
    "print(tokenizer.tokenize(text))"
   ]
  },
  {
   "cell_type": "markdown",
   "id": "52548394",
   "metadata": {},
   "source": [
    "### 토큰화 라이브러리 \n",
    "#### 단어의 형태소 level에서 분석을 하게 되면  다른 동사 또는 다른 시제의 단어라고 해도 같은 형태로 토큰화를 할 수 있습니다. 두 가지 대표적인 어간 추출 패키지를 알아보자"
   ]
  },
  {
   "cell_type": "code",
   "execution_count": 5,
   "id": "c8e78fff",
   "metadata": {},
   "outputs": [
    {
     "name": "stdout",
     "output_type": "stream",
     "text": [
      "['Model-based', 'RL', 'do', \"n't\", 'need', 'ad', 'value', 'function', 'fro', 'the', 'policy']\n"
     ]
    }
   ],
   "source": [
    "from nltk.tokenize import word_tokenize\n",
    "print(word_tokenize(text))"
   ]
  },
  {
   "cell_type": "markdown",
   "id": "a2c697f1",
   "metadata": {},
   "source": [
    "### 정수 인코딩 및 sorting\n",
    "#### 1. Enumerate 사용 복습"
   ]
  },
  {
   "cell_type": "code",
   "execution_count": 6,
   "id": "ce2528fd",
   "metadata": {},
   "outputs": [
    {
     "name": "stdout",
     "output_type": "stream",
     "text": [
      "Course : English, Number : 0\n",
      "Course : Math, Number : 1\n",
      "Course : Science, Number : 2\n"
     ]
    }
   ],
   "source": [
    "mylist = ['English','Math','Science']\n",
    "for n, name in enumerate(mylist):\n",
    "    print(\"Course : {}, Number : {}\".format(name,n))"
   ]
  },
  {
   "cell_type": "markdown",
   "id": "ef15f9aa",
   "metadata": {},
   "source": [
    "#### 2. 정수 인코딩 및 High-frequency Sorting"
   ]
  },
  {
   "cell_type": "code",
   "execution_count": 9,
   "id": "dda2360d",
   "metadata": {},
   "outputs": [
    {
     "name": "stdout",
     "output_type": "stream",
     "text": [
      "[('cup', 8), ('July', 6), ('piano', 4), ('apple', 2), ('orange', 1)]\n",
      "{'cup': 1, 'July': 2, 'piano': 3, 'apple': 4, 'orange': 5}\n"
     ]
    }
   ],
   "source": [
    "vocab = {'apple' : 2, \"July\":6,'piano':4,'cup':8,'orange':1}\n",
    "vocab_sort = sorted(vocab.items(), key = lambda x:x[1], reverse = True)\n",
    "print(vocab_sort)\n",
    "word2inx = {word[0] : index + 1 for index, word in enumerate(vocab_sort)}\n",
    "print(word2inx)"
   ]
  },
  {
   "cell_type": "code",
   "execution_count": 28,
   "id": "a913fc11",
   "metadata": {},
   "outputs": [
    {
     "name": "stdout",
     "output_type": "stream",
     "text": [
      "단어수 : {'Model-based': 0, 'RL': 1, 'do': 2, \"n't\": 3, 'need': 4, 'ad': 5, 'value': 6, 'function': 7, 'for': 8, 'the': 9, 'policy': 10, 'but': 11, 'some': 12, 'of': 13, 'algorithms': 14, 'have': 15, 'a': 16, '.': 17}\n",
      "단어 빈도수 : [2, 2, 2, 1, 1, 1, 2, 2, 1, 1, 1, 1, 1, 1, 1, 1, 1, 1]\n"
     ]
    }
   ],
   "source": [
    "from nltk.tokenize import TreebankWordTokenizer\n",
    "tokenizer = TreebankWordTokenizer()\n",
    "text = \"Model-based RL don't need ad value function for the policy\" \\\n",
    "        \" but some of Model-based RL algorithms do have a value function.\"\n",
    "token_text = tokenizer.tokenize(text)\n",
    "word2inx = {}\n",
    "Bow = []\n",
    "for word in token_text:\n",
    "    if word not in word2inx.keys():\n",
    "        word2inx[word] = len(word2inx)\n",
    "        Bow.insert(len(word2inx) -1,1)\n",
    "    else :\n",
    "        inx = word2inx.get(word)\n",
    "        Bow[inx] += 1\n",
    "print(\"단어수 :\",word2inx)\n",
    "print(\"단어 빈도수 :\",Bow)"
   ]
  },
  {
   "cell_type": "code",
   "execution_count": 27,
   "id": "e96c979a",
   "metadata": {},
   "outputs": [
    {
     "data": {
      "text/plain": [
       "['Model-based',\n",
       " 'RL',\n",
       " 'do',\n",
       " \"n't\",\n",
       " 'need',\n",
       " 'ad',\n",
       " 'value',\n",
       " 'function',\n",
       " 'for',\n",
       " 'the',\n",
       " 'policy',\n",
       " 'but',\n",
       " 'some',\n",
       " 'of',\n",
       " 'Model-based',\n",
       " 'RL',\n",
       " 'algorithms',\n",
       " 'do',\n",
       " 'have',\n",
       " 'a',\n",
       " 'value',\n",
       " 'function',\n",
       " '.']"
      ]
     },
     "execution_count": 27,
     "metadata": {},
     "output_type": "execute_result"
    }
   ],
   "source": [
    "token_text"
   ]
  },
  {
   "cell_type": "markdown",
   "id": "4b840b7a",
   "metadata": {},
   "source": [
    "### 유사도 분석\n",
    "#### 1. 코사인 유사도 분석"
   ]
  },
  {
   "cell_type": "code",
   "execution_count": 30,
   "id": "a855aa4b",
   "metadata": {},
   "outputs": [],
   "source": [
    "import numpy as np"
   ]
  },
  {
   "cell_type": "code",
   "execution_count": 33,
   "id": "8b829724",
   "metadata": {},
   "outputs": [
    {
     "name": "stdout",
     "output_type": "stream",
     "text": [
      "0.0 0.7071067811865475 0.7071067811865475\n"
     ]
    }
   ],
   "source": [
    "def cos_sim(A,B):\n",
    "    return np.dot(A,B) / (np.linalg.norm(A) * np.linalg.norm(B))\n",
    "\n",
    "a = [1,0,0,1]\n",
    "b = [0,1,1,0]\n",
    "c = [1,1,1,1]\n",
    "print(cos_sim(a,b), cos_sim(b,c), cos_sim(c,a))"
   ]
  },
  {
   "cell_type": "markdown",
   "id": "02637a5b",
   "metadata": {},
   "source": [
    "#### 2. 레반슈타인 거리"
   ]
  },
  {
   "cell_type": "code",
   "execution_count": 40,
   "id": "2c3a2a1e",
   "metadata": {},
   "outputs": [
    {
     "name": "stdout",
     "output_type": "stream",
     "text": [
      "2.0\n"
     ]
    }
   ],
   "source": [
    "def leven(text1, text2):\n",
    "    len1 = len(text1) +1\n",
    "    len2 = len(text2) +1\n",
    "    sim_array = np.zeros((len1, len2))\n",
    "    sim_array[:,0] = np.linspace(0, len1-1, len1) \n",
    "    sim_array[0,:] = np.linspace(0, len2-1, len2)\n",
    "    for i in range(1, len1):\n",
    "        for j in range(1, len2):\n",
    "            add_char  =sim_array[i-1,j] + 1\n",
    "            sub_char = sim_array[i,j-1] + 1\n",
    "            if text1[i-1] == text2[j-1]:\n",
    "                mod_char = sim_array[i-1,j-1]\n",
    "            else :\n",
    "                mod_char = sim_array[i-1, j-1] + 1\n",
    "            sim_array[i,j] = min([add_char, sub_char, mod_char])\n",
    "    return sim_array[-1,-1]\n",
    "print(leven('데이터마이닝','데이타마닝'))"
   ]
  },
  {
   "cell_type": "markdown",
   "id": "3fffb64a",
   "metadata": {},
   "source": [
    "### Word2Vec - CBoW, SkipGram\n",
    "#### CBoW와 SkipGram을 위한 전처리 복습 및 Overview"
   ]
  },
  {
   "cell_type": "code",
   "execution_count": 49,
   "id": "be28ad7f",
   "metadata": {
    "scrolled": true
   },
   "outputs": [
    {
     "name": "stdout",
     "output_type": "stream",
     "text": [
      "Missing Values:  transcript    0\n",
      "url           0\n",
      "dtype: int64\n",
      "Total word count:  1511817\n",
      "Good morning. How are you?(Laughter)It's\n"
     ]
    }
   ],
   "source": [
    "#1. Training Samples\n",
    "import pandas as pd\n",
    "from nltk.tokenize import RegexpTokenizer\n",
    "from nltk.corpus import stopwords\n",
    "data = pd.read_csv('C:/Users/admin/STUDY/NLP학습/실습자료_NLP/transcripts.csv')\n",
    "print('Missing Values: ', data.isnull().sum())\n",
    "data = data.dropna().reset_index(drop=True)\n",
    "merge_data = ''.join(str(data.iloc[i,0]) for i in range(100))\n",
    "print('Total word count: ', len(merge_data))\n",
    "print(merge_data[:40])"
   ]
  },
  {
   "cell_type": "code",
   "execution_count": 52,
   "id": "07fc992e",
   "metadata": {},
   "outputs": [
    {
     "name": "stdout",
     "output_type": "stream",
     "text": [
      "After cleaning : 147300\n",
      "['Good', 'morning', 'How', 'Laughter', 'It', 'great', 'I', 'blown', 'away', 'whole']\n"
     ]
    }
   ],
   "source": [
    "tokenizer = RegexpTokenizer(\"[\\w]+\")\n",
    "token_text = tokenizer.tokenize(merge_data)\n",
    "\n",
    "\n",
    "stop_words = set(stopwords.words('english'))\n",
    "token_stop_text = []\n",
    "for w in token_text:\n",
    "    if w not in stop_words:\n",
    "        token_stop_text.append(w)\n",
    "print('After cleaning :', len(token_stop_text))\n",
    "print(token_stop_text[:10])"
   ]
  },
  {
   "cell_type": "code",
   "execution_count": 47,
   "id": "fb318c2c",
   "metadata": {},
   "outputs": [
    {
     "name": "stdout",
     "output_type": "stream",
     "text": [
      "Unique Words Count : 16689\n"
     ]
    }
   ],
   "source": [
    "word2inx = {}\n",
    "Bow = []\n",
    "for word in token_stop_text:\n",
    "    if word not in word2inx.keys():\n",
    "        word2inx[word] = len(word2inx)\n",
    "        Bow.insert(len(word2inx)-1,1)\n",
    "    else:\n",
    "        inx = word2inx.get(word)\n",
    "        Bow[inx] += 1\n",
    "print('Unique Words Count :', len(Bow))"
   ]
  },
  {
   "cell_type": "markdown",
   "id": "8fe5f328",
   "metadata": {},
   "source": [
    "#### nltk 내장 함수를 이용한 CBoW 학습"
   ]
  },
  {
   "cell_type": "code",
   "execution_count": 54,
   "id": "59a6b24c",
   "metadata": {},
   "outputs": [
    {
     "name": "stderr",
     "output_type": "stream",
     "text": [
      "C:\\Users\\admin\\Anaconda3\\envs\\nlp\\lib\\site-packages\\scipy\\__init__.py:146: UserWarning: A NumPy version >=1.16.5 and <1.23.0 is required for this version of SciPy (detected version 1.23.1\n",
      "  warnings.warn(f\"A NumPy version >={np_minversion} and <{np_maxversion}\"\n"
     ]
    }
   ],
   "source": [
    "#2. Word2Vec Training\n",
    "import numpy as np\n",
    "token_stop_text = np.reshape(np.array(token_stop_text),[-1,1])\n",
    "from gensim.models import Word2Vec\n",
    "model = Word2Vec(vector_size = 100, window = 5, min_count = 2, sg = 0)\n",
    "model.build_vocab(token_stop_text)\n",
    "model.train(token_stop_text, total_examples = model.corpus_count, epochs = 30, report_delay = 1)\n",
    "vocabs = model.wv.key_to_index.keys()\n",
    "word_vec_list = [model.wv[i] for i in vocabs]"
   ]
  },
  {
   "cell_type": "markdown",
   "id": "b39859a9",
   "metadata": {},
   "source": [
    "#### PCA를 통한 학습 모델 시각화"
   ]
  },
  {
   "cell_type": "code",
   "execution_count": 57,
   "id": "9de1e2f5",
   "metadata": {},
   "outputs": [
    {
     "data": {
      "image/png": "[encoded data removed]",
      "text/plain": [
       "<Figure size 432x288 with 1 Axes>"
      ]
     },
     "metadata": {
      "needs_background": "light"
     },
     "output_type": "display_data"
    }
   ],
   "source": [
    "from sklearn.decomposition import PCA\n",
    "pca = PCA(n_components = 2) # 2차원으로 축소\n",
    "pcafit = pca.fit_transform(word_vec_list)\n",
    "x = pcafit[0:50,0]\n",
    "y = pcafit[0:50,1]\n",
    "import matplotlib.pyplot as plt\n",
    "plt.scatter(x, y, marker = 'o')\n",
    "for i, v in enumerate(vocabs):\n",
    "    if i <= 49:\n",
    "        plt.annotate(v, xy = (x[i], y[i]))\n",
    "plt.show()\n",
    "# sg : kip-gram\n",
    "# # vector_size : embedded vector size0 is CBOW, 1 is S\n",
    "# window : context window size\n",
    "# min_count : do not apply word2vec to sparse words"
   ]
  },
  {
   "cell_type": "markdown",
   "id": "ea2b0892",
   "metadata": {},
   "source": [
    "### SGNS : SkipGram with Negative Sampling\n",
    "#### SkipGram 전용 Dataset 구성"
   ]
  },
  {
   "cell_type": "code",
   "execution_count": 60,
   "id": "ee768ecf",
   "metadata": {},
   "outputs": [
    {
     "name": "stdout",
     "output_type": "stream",
     "text": [
      "Missing Values:  transcript    0\n",
      "url           0\n",
      "dtype: int64\n",
      "Total word count:  507413\n"
     ]
    }
   ],
   "source": [
    "#SGNS\n",
    "import pandas as pd\n",
    "from nltk.tokenize import RegexpTokenizer\n",
    "from nltk.corpus import stopwords\n",
    "import numpy as np\n",
    "data = pd.read_csv('./실습자료_NLP/transcripts.csv')\n",
    "print('Missing Values: ', data.isnull().sum())\n",
    "data = data.dropna().reset_index(drop=True)\n",
    "merge_data = ''.join(str(data.iloc[i,0]) for i in range(30))\n",
    "print('Total word count: ', len(merge_data))"
   ]
  },
  {
   "cell_type": "code",
   "execution_count": 61,
   "id": "48863ede",
   "metadata": {},
   "outputs": [
    {
     "name": "stdout",
     "output_type": "stream",
     "text": [
      "After cleaning : 50038\n"
     ]
    }
   ],
   "source": [
    "tokenizer = RegexpTokenizer(\"[\\w]+\")\n",
    "token_text = tokenizer.tokenize(merge_data)\n",
    "\n",
    "stop_words = set(stopwords.words('english'))\n",
    "token_stop_text = []\n",
    "for w in token_text:\n",
    "    if w not in stop_words:\n",
    "        token_stop_text.append(w)\n",
    "print('After cleaning :', len(token_stop_text))\n"
   ]
  },
  {
   "cell_type": "code",
   "execution_count": 63,
   "id": "c46309f8",
   "metadata": {},
   "outputs": [],
   "source": [
    "from tensorflow.keras.preprocessing.text import Tokenizer\n",
    "tokenizer = Tokenizer()\n",
    "tokenizer.fit_on_texts(token_stop_text)\n",
    "word2idx = toke\n",
    "nizer.word_index\n",
    "encoded = tokenizer.texts_to_sequences(token_stop_text)\n",
    "encoded = np.array(encoded).T\n",
    "from tensorflow.keras.preprocessing.sequence import skipgrams\n",
    "skip_gram = [skipgrams(sample, vocabulary_size = len(word2idx)+1,\n",
    "                       window_size = 10) for sample in encoded]"
   ]
  },
  {
   "cell_type": "code",
   "execution_count": 65,
   "id": "65dfb7b4",
   "metadata": {
    "scrolled": true
   },
   "outputs": [
    {
     "name": "stderr",
     "output_type": "stream",
     "text": [
      "C:\\Users\\admin\\Anaconda3\\envs\\nlp\\lib\\site-packages\\tqdm\\auto.py:22: TqdmWarning: IProgress not found. Please update jupyter and ipywidgets. See https://ipywidgets.readthedocs.io/en/stable/user_install.html\n",
      "  from .autonotebook import tqdm as notebook_tqdm\n"
     ]
    }
   ],
   "source": [
    "import torch\n",
    "import torch.nn as nn\n",
    "from torch import LongTensor as LT\n",
    "from torch import FloatTensor as FT"
   ]
  },
  {
   "cell_type": "markdown",
   "id": "feafc6bc",
   "metadata": {},
   "source": [
    "#### Word2Vec의 원리는 각 단어마다 지정된 고유 벡터 값을 생성하는 것.\n",
    "#### Word2Vec class에서 그 툴을 생성"
   ]
  },
  {
   "cell_type": "code",
   "execution_count": 66,
   "id": "36122090",
   "metadata": {},
   "outputs": [],
   "source": [
    "class Word2Vec(nn.Module):\n",
    "    def __init__(self, vocab_size, embed_size):\n",
    "        super(Word2Vec, self).__init__()\n",
    "        self.vocab_size = vocab_size\n",
    "        self.embed_size = embed_size\n",
    "        self.word1_vector = nn.Embedding(self.vocab_size, self.embed_size)\n",
    "        self.word2_vector = nn.Embedding(self.vocab_size, self.embed_size)\n",
    "        self.word1_vector.weight = \\\n",
    "            nn.Parameter(torch.cat([torch.zeros(1, self.embed_size), FT(self.vocab_size-1,\n",
    "                                                                       self.embed_size).uniform_(-0.1, 0.1)]))\n",
    "        self.word2_vector.weight = \\\n",
    "            nn.Parameter(torch.cat([torch.zeros(1, self.embed_size), FT(self.vocab_size - 1,\n",
    "                                                                       self.embed_size).uniform_(-0.1, 0.1)]))\n",
    "        self.word1_vector.weight.requires_grad = True\n",
    "        self.word2_vector.weight.requires_grad = True\n",
    "\n",
    "    def forward_word1(self, data):\n",
    "        vec = LT(data)\n",
    "        vec = vec.cuda() if self.word1_vector.weight.is_cuda else vec\n",
    "        return self.word1_vector(vec)\n",
    "\n",
    "\n",
    "    def forward_word2(self, data):\n",
    "        vec = LT(data)\n",
    "        vec = vec.cuda() if self.word2_vector.weight.is_cuda else vec\n",
    "        return self.word2_vector(vec)"
   ]
  },
  {
   "cell_type": "markdown",
   "id": "07299701",
   "metadata": {},
   "source": [
    "#### torch.bmm\n",
    "#### - [B, n, m] x [B, m, p] = [B, n, p]"
   ]
  },
  {
   "cell_type": "code",
   "execution_count": 68,
   "id": "51a2d825",
   "metadata": {},
   "outputs": [],
   "source": [
    "class SGNS(nn.Module):\n",
    "    def __init__(self, embed, vocab_size):\n",
    "        super(SGNS, self).__init__()\n",
    "        self.embed = embed\n",
    "        self.vocab_size = vocab_size\n",
    "        self.weights = None\n",
    "    def forward(self, word1, word2, label):\n",
    "        word1 = self.embed.forward_word1(word1).unsqueeze(1)\n",
    "        word2 = self.embed.forward_word2(word2).unsqueeze(2)\n",
    "        label = LT(label).unsqueeze(1)\n",
    "        prediction = torch.bmm(word1, word2).squeeze(2).sigmoid().log()\n",
    "        loss = -label * prediction\n",
    "        return loss.mean()"
   ]
  },
  {
   "cell_type": "code",
   "execution_count": 69,
   "id": "5d415656",
   "metadata": {},
   "outputs": [
    {
     "name": "stdout",
     "output_type": "stream",
     "text": [
      "Train Ready\n"
     ]
    }
   ],
   "source": [
    "from torch.optim import Adam\n",
    "from torch.utils.data import DataLoader, TensorDataset\n",
    "from tqdm import tqdm\n",
    "vocab_size = len(word2idx)+1\n",
    "word2vec = Word2Vec(vocab_size = vocab_size, embed_size = 100)\n",
    "sgns = SGNS(embed = word2vec, vocab_size = vocab_size)\n",
    "optim = Adam(sgns.parameters())\n",
    "print('Train Ready')"
   ]
  },
  {
   "cell_type": "code",
   "execution_count": 70,
   "id": "19687f18",
   "metadata": {},
   "outputs": [
    {
     "name": "stdout",
     "output_type": "stream",
     "text": [
      "Data Loaded\n"
     ]
    }
   ],
   "source": [
    "for _, element in enumerate(skip_gram):\n",
    "    word1 = LT(np.array(list(zip(*element[0]))[0], dtype = 'int32'))\n",
    "    word2 = LT(np.array(list(zip(*element[0]))[1], dtype = 'int32'))\n",
    "    label = LT(np.array(element[1], dtype = 'int32'))\n",
    "    dataset = TensorDataset(word1, word2, label)\n",
    "    train_loader = DataLoader(dataset, batch_size = 256, shuffle = True)\n",
    "print('Data Loaded')"
   ]
  },
  {
   "cell_type": "code",
   "execution_count": 71,
   "id": "951d6aa8",
   "metadata": {},
   "outputs": [
    {
     "name": "stderr",
     "output_type": "stream",
     "text": [
      "Epoch 0: 100%|███████████████████████████████████████████████████| 7818/7818 [02:45<00:00, 47.38batch/s, loss=0.000785]\n",
      "Epoch 1: 100%|████████████████████████████████████████████████████| 7818/7818 [02:57<00:00, 44.08batch/s, loss=8.84e-6]\n",
      "Epoch 2: 100%|██████████████████████████████████████████████████| 7818/7818 [1:14:22<00:00,  1.75batch/s, loss=3.65e-6]\n",
      "Epoch 3: 100%|████████████████████████████████████████████████████| 7818/7818 [02:57<00:00, 44.14batch/s, loss=5.88e-8]\n",
      "Epoch 4: 100%|████████████████████████████████████████████████████| 7818/7818 [03:22<00:00, 38.63batch/s, loss=9.34e-8]\n"
     ]
    }
   ],
   "source": [
    "for epoch in range(5):\n",
    "    with tqdm(train_loader, unit = 'batch') as tepoch:\n",
    "        for word1, word2, label in tepoch:\n",
    "            loss = sgns(word1, word2, label)\n",
    "            optim.zero_grad()\n",
    "            loss.backward()\n",
    "            optim.step()\n",
    "            tepoch.set_description(f\"Epoch {epoch}\")\n",
    "            tepoch.set_postfix(loss = loss.item())"
   ]
  },
  {
   "cell_type": "code",
   "execution_count": 72,
   "id": "831b19ca",
   "metadata": {},
   "outputs": [
    {
     "name": "stdout",
     "output_type": "stream",
     "text": [
      "Non-English Characters\n",
      "Non-English Characters\n",
      "Non-English Characters\n",
      "Non-English Characters\n",
      "Non-English Characters\n",
      "Non-English Characters\n"
     ]
    },
    {
     "data": {
      "text/plain": [
       "[('made', 0.9871626496315002),\n",
       " ('new', 0.9865283966064453),\n",
       " ('they', 0.9858470559120178),\n",
       " ('know', 0.9855052828788757),\n",
       " ('somebody', 0.9854188561439514),\n",
       " ('united', 0.9853945970535278),\n",
       " ('kind', 0.9846754670143127),\n",
       " ('become', 0.9844489097595215),\n",
       " ('love', 0.9844077825546265),\n",
       " ('one', 0.984302818775177)]"
      ]
     },
     "execution_count": 72,
     "metadata": {},
     "output_type": "execute_result"
    }
   ],
   "source": [
    "f = open('vectors.txt' ,'w')\n",
    "ww = 0\n",
    "f.write('{} {}\\n'.format(7930, 100))\n",
    "vectors = word2vec.word1_vector.weight.detach().numpy()\n",
    "for i, v in enumerate(word2idx.keys()):\n",
    "    try:\n",
    "        f.write('{} {}\\n'.format(v, ' '.join(map(str, list(vectors[i+1, :])))))\n",
    "        ww += 1\n",
    "    except:\n",
    "        print('Non-English Characters')\n",
    "f.close()\n",
    "import gensim\n",
    "embed_word2vec = gensim.models.KeyedVectors.load_word2vec_format('vectors.txt', binary = False)\n",
    "\n",
    "embed_word2vec.most_similar(positive = ['country'])"
   ]
  },
  {
   "cell_type": "code",
   "execution_count": 73,
   "id": "b14966aa",
   "metadata": {},
   "outputs": [
    {
     "data": {
      "text/plain": [
       "[('next', 0.9867959022521973),\n",
       " ('many', 0.9864321351051331),\n",
       " ('believe', 0.9863847494125366),\n",
       " ('new', 0.9860018491744995),\n",
       " ('use', 0.9859516620635986),\n",
       " ('they', 0.9858907461166382),\n",
       " ('design', 0.985862135887146),\n",
       " ('that', 0.9857882261276245),\n",
       " ('want', 0.9857333898544312),\n",
       " ('back', 0.9855797290802002)]"
      ]
     },
     "execution_count": 73,
     "metadata": {},
     "output_type": "execute_result"
    }
   ],
   "source": [
    "embed_word2vec.most_similar(positive = ['love'])"
   ]
  },
  {
   "cell_type": "code",
   "execution_count": null,
   "id": "0822b2a9",
   "metadata": {},
   "outputs": [],
   "source": []
  },
  {
   "cell_type": "code",
   "execution_count": null,
   "id": "c31b0237",
   "metadata": {},
   "outputs": [],
   "source": []
  },
  {
   "cell_type": "code",
   "execution_count": null,
   "id": "f06b2faf",
   "metadata": {},
   "outputs": [],
   "source": []
  }
 ],
 "metadata": {
  "kernelspec": {
   "display_name": "nlp",
   "language": "python",
   "name": "nlp"
  },
  "language_info": {
   "codemirror_mode": {
    "name": "ipython",
    "version": 3
   },
   "file_extension": ".py",
   "mimetype": "text/x-python",
   "name": "python",
   "nbconvert_exporter": "python",
   "pygments_lexer": "ipython3",
   "version": "3.10.4"
  }
 },
 "nbformat": 4,
 "nbformat_minor": 5
}
