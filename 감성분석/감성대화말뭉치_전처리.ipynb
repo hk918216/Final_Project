{
 "cells": [
  {
   "cell_type": "code",
   "execution_count": 1,
   "id": "054a0897",
   "metadata": {},
   "outputs": [],
   "source": [
    "import pandas as pd"
   ]
  },
  {
   "cell_type": "code",
   "execution_count": 2,
   "id": "4563ceb2",
   "metadata": {},
   "outputs": [],
   "source": [
    "df = pd.read_excel('./data/감성대화/Validation/Validation.xlsx')"
   ]
  },
  {
   "cell_type": "code",
   "execution_count": 3,
   "id": "60504533",
   "metadata": {
    "scrolled": true
   },
   "outputs": [
    {
     "data": {
      "text/html": [
       "<div>\n",
       "<style scoped>\n",
       "    .dataframe tbody tr th:only-of-type {\n",
       "        vertical-align: middle;\n",
       "    }\n",
       "\n",
       "    .dataframe tbody tr th {\n",
       "        vertical-align: top;\n",
       "    }\n",
       "\n",
       "    .dataframe thead th {\n",
       "        text-align: right;\n",
       "    }\n",
       "</style>\n",
       "<table border=\"1\" class=\"dataframe\">\n",
       "  <thead>\n",
       "    <tr style=\"text-align: right;\">\n",
       "      <th></th>\n",
       "      <th>번호</th>\n",
       "      <th>연령</th>\n",
       "      <th>성별</th>\n",
       "      <th>상황키워드</th>\n",
       "      <th>신체질환</th>\n",
       "      <th>감정_대분류</th>\n",
       "      <th>감정_소분류</th>\n",
       "      <th>사람문장1</th>\n",
       "      <th>시스템응답1</th>\n",
       "      <th>사람문장2</th>\n",
       "      <th>시스템응답2</th>\n",
       "      <th>사람문장3</th>\n",
       "      <th>시스템응답3</th>\n",
       "      <th>사람문장4</th>\n",
       "      <th>시스템응답4</th>\n",
       "    </tr>\n",
       "  </thead>\n",
       "  <tbody>\n",
       "    <tr>\n",
       "      <th>835</th>\n",
       "      <td>34331</td>\n",
       "      <td>노년</td>\n",
       "      <td>남성</td>\n",
       "      <td>건강, 죽음</td>\n",
       "      <td>만성질환 유</td>\n",
       "      <td>분노</td>\n",
       "      <td>짜증내는</td>\n",
       "      <td>폐렴이 심해져서 내 유일한 낙이던 담배를 끊어야 한대. 이제 어떻게 기쁨을 얻어야 ...</td>\n",
       "      <td>폐렴으로 인해 담배를 끊어야 하는 상황에 짜증이 나시는군요.</td>\n",
       "      <td>오랜 세월 동안 내 유일한 낙이었는데 아픈 것도 모자라서 기쁨도 빼앗기다니 너무 화...</td>\n",
       "      <td>어떻게 하면 이 기분이 나아질 수 있을까요?</td>\n",
       "      <td>건강을 해치지 않을 만한 다른 취미를 찾아봐야겠어.</td>\n",
       "      <td>건강에도 좋은 새로운 삶의 낙을 찾을 수 있기를 바라요.</td>\n",
       "      <td>NaN</td>\n",
       "      <td>NaN</td>\n",
       "    </tr>\n",
       "    <tr>\n",
       "      <th>3859</th>\n",
       "      <td>13366</td>\n",
       "      <td>청년</td>\n",
       "      <td>여성</td>\n",
       "      <td>연애, 결혼, 출산</td>\n",
       "      <td>해당없음</td>\n",
       "      <td>분노</td>\n",
       "      <td>좌절한</td>\n",
       "      <td>신문 기사를 봤는데 결혼자금으로 최소 일억 원이 필요하대. 한숨만 나오고 너무 걱정돼.</td>\n",
       "      <td>결혼자금이 너무 부담될 것 같아 걱정되시는군요.</td>\n",
       "      <td>맞아. 장래가 너무 어두운 거 같아. 결혼은 꿈도 꾸지 않아야 할 것 같아.</td>\n",
       "      <td>결혼자금이 생각보다 더 많이 들어가서 좌절하셨군요.</td>\n",
       "      <td>NaN</td>\n",
       "      <td>NaN</td>\n",
       "      <td>NaN</td>\n",
       "      <td>NaN</td>\n",
       "    </tr>\n",
       "    <tr>\n",
       "      <th>155</th>\n",
       "      <td>28087</td>\n",
       "      <td>청년</td>\n",
       "      <td>여성</td>\n",
       "      <td>대인관계</td>\n",
       "      <td>해당없음</td>\n",
       "      <td>상처</td>\n",
       "      <td>고립된</td>\n",
       "      <td>십년지기 친구가 혼자 오해하고 다시는 나를 보고 싶지 않대. 그 말을 듣고 상처 받았어.</td>\n",
       "      <td>십년지기 친구가 오해해서 상처 받으셨군요.</td>\n",
       "      <td>안 그래도 믿고 만나는 친구는 이 친구뿐인데 오해라고 말해도 전혀 대답이 없어.</td>\n",
       "      <td>오해라고 말해도 전혀 대답이 없군요. 예전에 이런 일이 있을 때 어떻게 대처하셨어요?</td>\n",
       "      <td>편지를 쓴 다음 오해가 풀릴 때 까지 기다렸어. 이번에도 그래야겠어.</td>\n",
       "      <td>편지가 오해를 풀게 만들었으면 좋겠어요.</td>\n",
       "      <td>NaN</td>\n",
       "      <td>NaN</td>\n",
       "    </tr>\n",
       "    <tr>\n",
       "      <th>1125</th>\n",
       "      <td>28188</td>\n",
       "      <td>청소년</td>\n",
       "      <td>여성</td>\n",
       "      <td>학교폭력/따돌림</td>\n",
       "      <td>해당없음</td>\n",
       "      <td>슬픔</td>\n",
       "      <td>환멸을 느끼는</td>\n",
       "      <td>나는 정말 많이 노력하는데 내 주변엔 아무도 없어서 힘들어.</td>\n",
       "      <td>주변에 아무도 없는 것 같아 외로우시겠어요.</td>\n",
       "      <td>악의적으로 소문을 내는 친구들 때문에 아무도 내 곁에 남지 않아.</td>\n",
       "      <td>악의적으로 소문을 내는 친구들 때문에 아무도 내 곁에 남지 않는군요. 이 상황을 변...</td>\n",
       "      <td>결심했어. 내일은 그 소문 내는 애들을 찾아가서 이야기할거야.</td>\n",
       "      <td>진솔한 대화로 상황이 해결되었으면 좋겠네요.</td>\n",
       "      <td>NaN</td>\n",
       "      <td>NaN</td>\n",
       "    </tr>\n",
       "    <tr>\n",
       "      <th>4093</th>\n",
       "      <td>47197</td>\n",
       "      <td>노년</td>\n",
       "      <td>여성</td>\n",
       "      <td>재정</td>\n",
       "      <td>만성질환 유</td>\n",
       "      <td>당황</td>\n",
       "      <td>부끄러운</td>\n",
       "      <td>요즘들어 몸이 더 안 좋아지고 있어. 경제적으로도 너무 힘들고. 아이들한테 용돈을 ...</td>\n",
       "      <td>몸도 안 좋은데 경제적으로도 힘들어서 걱정이겠어요. 이런 일들을 헤쳐나가려고 어떤 ...</td>\n",
       "      <td>우선 병원을 다니며 건강을 먼저 챙기고 그 후에 다시 일을 시작해 볼 생각이야.</td>\n",
       "      <td>병원을 다니며 건강을 먼저 챙기고 그 후에 다시 일을 시작해 볼 생각이시군요.</td>\n",
       "      <td>NaN</td>\n",
       "      <td>NaN</td>\n",
       "      <td>NaN</td>\n",
       "      <td>NaN</td>\n",
       "    </tr>\n",
       "  </tbody>\n",
       "</table>\n",
       "</div>"
      ],
      "text/plain": [
       "         번호   연령  성별       상황키워드    신체질환 감정_대분류   감정_소분류  \\\n",
       "835   34331   노년  남성      건강, 죽음  만성질환 유     분노     짜증내는   \n",
       "3859  13366   청년  여성  연애, 결혼, 출산    해당없음     분노      좌절한   \n",
       "155   28087   청년  여성        대인관계    해당없음     상처      고립된   \n",
       "1125  28188  청소년  여성    학교폭력/따돌림    해당없음     슬픔  환멸을 느끼는   \n",
       "4093  47197   노년  여성          재정  만성질환 유     당황     부끄러운   \n",
       "\n",
       "                                                  사람문장1  \\\n",
       "835   폐렴이 심해져서 내 유일한 낙이던 담배를 끊어야 한대. 이제 어떻게 기쁨을 얻어야 ...   \n",
       "3859   신문 기사를 봤는데 결혼자금으로 최소 일억 원이 필요하대. 한숨만 나오고 너무 걱정돼.   \n",
       "155   십년지기 친구가 혼자 오해하고 다시는 나를 보고 싶지 않대. 그 말을 듣고 상처 받았어.   \n",
       "1125                  나는 정말 많이 노력하는데 내 주변엔 아무도 없어서 힘들어.   \n",
       "4093  요즘들어 몸이 더 안 좋아지고 있어. 경제적으로도 너무 힘들고. 아이들한테 용돈을 ...   \n",
       "\n",
       "                                                 시스템응답1  \\\n",
       "835                   폐렴으로 인해 담배를 끊어야 하는 상황에 짜증이 나시는군요.   \n",
       "3859                         결혼자금이 너무 부담될 것 같아 걱정되시는군요.   \n",
       "155                             십년지기 친구가 오해해서 상처 받으셨군요.   \n",
       "1125                           주변에 아무도 없는 것 같아 외로우시겠어요.   \n",
       "4093  몸도 안 좋은데 경제적으로도 힘들어서 걱정이겠어요. 이런 일들을 헤쳐나가려고 어떤 ...   \n",
       "\n",
       "                                                  사람문장2  \\\n",
       "835   오랜 세월 동안 내 유일한 낙이었는데 아픈 것도 모자라서 기쁨도 빼앗기다니 너무 화...   \n",
       "3859         맞아. 장래가 너무 어두운 거 같아. 결혼은 꿈도 꾸지 않아야 할 것 같아.   \n",
       "155        안 그래도 믿고 만나는 친구는 이 친구뿐인데 오해라고 말해도 전혀 대답이 없어.   \n",
       "1125               악의적으로 소문을 내는 친구들 때문에 아무도 내 곁에 남지 않아.   \n",
       "4093       우선 병원을 다니며 건강을 먼저 챙기고 그 후에 다시 일을 시작해 볼 생각이야.   \n",
       "\n",
       "                                                 시스템응답2  \\\n",
       "835                            어떻게 하면 이 기분이 나아질 수 있을까요?   \n",
       "3859                       결혼자금이 생각보다 더 많이 들어가서 좌절하셨군요.   \n",
       "155     오해라고 말해도 전혀 대답이 없군요. 예전에 이런 일이 있을 때 어떻게 대처하셨어요?   \n",
       "1125  악의적으로 소문을 내는 친구들 때문에 아무도 내 곁에 남지 않는군요. 이 상황을 변...   \n",
       "4093        병원을 다니며 건강을 먼저 챙기고 그 후에 다시 일을 시작해 볼 생각이시군요.   \n",
       "\n",
       "                                       사람문장3                           시스템응답3  \\\n",
       "835             건강을 해치지 않을 만한 다른 취미를 찾아봐야겠어.  건강에도 좋은 새로운 삶의 낙을 찾을 수 있기를 바라요.   \n",
       "3859                                     NaN                              NaN   \n",
       "155   편지를 쓴 다음 오해가 풀릴 때 까지 기다렸어. 이번에도 그래야겠어.           편지가 오해를 풀게 만들었으면 좋겠어요.   \n",
       "1125      결심했어. 내일은 그 소문 내는 애들을 찾아가서 이야기할거야.         진솔한 대화로 상황이 해결되었으면 좋겠네요.   \n",
       "4093                                     NaN                              NaN   \n",
       "\n",
       "     사람문장4 시스템응답4  \n",
       "835    NaN    NaN  \n",
       "3859   NaN    NaN  \n",
       "155    NaN    NaN  \n",
       "1125   NaN    NaN  \n",
       "4093   NaN    NaN  "
      ]
     },
     "execution_count": 3,
     "metadata": {},
     "output_type": "execute_result"
    }
   ],
   "source": [
    "df.sample(n=5)"
   ]
  },
  {
   "cell_type": "code",
   "execution_count": 4,
   "id": "f1aaa85f",
   "metadata": {},
   "outputs": [
    {
     "data": {
      "text/plain": [
       "array(['분노', '슬픔', '불안', '당황', '상처', '기쁨'], dtype=object)"
      ]
     },
     "execution_count": 4,
     "metadata": {},
     "output_type": "execute_result"
    }
   ],
   "source": [
    "df['감정_대분류'].unique()"
   ]
  },
  {
   "cell_type": "code",
   "execution_count": 5,
   "id": "8f281cf8",
   "metadata": {},
   "outputs": [
    {
     "data": {
      "text/plain": [
       "array(['툴툴대는', '비통한', '조심스러운', '죄책감의', '노여워하는', '당황', '억울한', '염세적인',\n",
       "       '자신하는', '신뢰하는', '후회되는', '초조한', '구역질 나는', '악의적인', '기쁨', '환멸을 느끼는',\n",
       "       '눈물이 나는', '혐오스러운', '신이 난', '당혹스러운', '부끄러운', '감사하는', '괴로워하는',\n",
       "       '충격 받은', '걱정스러운', '혼란스러운', '취약한', '가난한, 불우한', '외로운', '분노', '버려진',\n",
       "       '질투하는', '느긋', '스트레스 받는', '실망한', '성가신', '좌절한', '남의 시선을 의식하는', '우울한',\n",
       "       '흥분', '안도', '회의적인', '희생된', '마비된', '고립된', '짜증내는', '배신당한', '한심한',\n",
       "       '슬픔', '상처', '두려운', '낙담한', '불안', '열등감', '만족스러운', '안달하는', '편안한',\n",
       "       '방어적인'], dtype=object)"
      ]
     },
     "execution_count": 5,
     "metadata": {},
     "output_type": "execute_result"
    }
   ],
   "source": [
    "df['감정_소분류'].unique()"
   ]
  },
  {
   "cell_type": "code",
   "execution_count": 25,
   "id": "5a469899",
   "metadata": {},
   "outputs": [
    {
     "data": {
      "text/plain": [
       "841"
      ]
     },
     "execution_count": 25,
     "metadata": {},
     "output_type": "execute_result"
    }
   ],
   "source": [
    "len(df[df['감정_대분류'] == 5])"
   ]
  },
  {
   "cell_type": "code",
   "execution_count": 26,
   "id": "d66cc745",
   "metadata": {},
   "outputs": [
    {
     "data": {
      "text/plain": [
       "5130"
      ]
     },
     "execution_count": 26,
     "metadata": {},
     "output_type": "execute_result"
    }
   ],
   "source": [
    "len(df)"
   ]
  },
  {
   "cell_type": "code",
   "execution_count": 4,
   "id": "08abd0e3",
   "metadata": {},
   "outputs": [],
   "source": [
    "df.loc[(df['감정_대분류'] == '분노'), '감정_대분류'] = 0 "
   ]
  },
  {
   "cell_type": "code",
   "execution_count": 5,
   "id": "e12a3d5d",
   "metadata": {},
   "outputs": [],
   "source": [
    "df.loc[(df['감정_대분류'] == '슬픔'), '감정_대분류'] = 1 \n",
    "df.loc[(df['감정_대분류'] == '불안'), '감정_대분류'] = 2 \n",
    "df.loc[(df['감정_대분류'] == '당황'), '감정_대분류'] = 3 \n",
    "df.loc[(df['감정_대분류'] == '상처'), '감정_대분류'] = 4 \n",
    "df.loc[(df['감정_대분류'] == '기쁨'), '감정_대분류'] = 5 "
   ]
  },
  {
   "cell_type": "code",
   "execution_count": 6,
   "id": "c93cfe45",
   "metadata": {},
   "outputs": [],
   "source": [
    "df_list = []\n",
    "for i, label in zip(df['사람문장1'], df['감정_대분류']) :\n",
    "    data = []\n",
    "    data.append(i)\n",
    "    data.append(str(label))\n",
    "    \n",
    "    df_list.append(data)"
   ]
  },
  {
   "cell_type": "code",
   "execution_count": 9,
   "id": "abe30252",
   "metadata": {
    "scrolled": false
   },
   "outputs": [
    {
     "data": {
      "text/plain": [
       "[['요즘 부모님과 많이 부딪혀.', '0'],\n",
       " ['엄마가 결국 집을 나갔어. 너무 너무 슬퍼.', '1'],\n",
       " ['학교에서 한 친구를 괴롭히는 무리에게 그만하라고 했어.', '2'],\n",
       " ['이번에 팀장님이 간단한 조사 업무를 부탁하셨는데 내가 잘못 처리했어. 너무 절망적이야.', '3'],\n",
       " ['남편이 이혼할 때 위자료를 주지 않으려고 변호사를 고용했어.', '0'],\n",
       " ['친구들과 노후에 대한 이야기를 하다 보니 서로 노후 자금 차이가 상당히 컸어.', '3'],\n",
       " ['직장에서 모함을 받았어. 난 정말 억울해.', '4'],\n",
       " ['요즘 딸에게 뭔가 물어보면 신경질부터 내는데 화가 나.', '0'],\n",
       " ['언제까지 대출금을 갚으며 살아야 할까? 포기하고 싶어지고 너무 슬퍼.', '1'],\n",
       " ['이 업무는 하루 만에 끝낼 수 있을 것 같아.', '5']]"
      ]
     },
     "execution_count": 9,
     "metadata": {},
     "output_type": "execute_result"
    }
   ],
   "source": [
    "df_list[:10]"
   ]
  },
  {
   "cell_type": "code",
   "execution_count": 7,
   "id": "97f4e85e",
   "metadata": {},
   "outputs": [],
   "source": [
    "DF = pd.DataFrame(df_list)\n",
    "DF.columns = ['sentence','emotion']"
   ]
  },
  {
   "cell_type": "code",
   "execution_count": 8,
   "id": "d438aa2d",
   "metadata": {},
   "outputs": [
    {
     "data": {
      "text/html": [
       "<div>\n",
       "<style scoped>\n",
       "    .dataframe tbody tr th:only-of-type {\n",
       "        vertical-align: middle;\n",
       "    }\n",
       "\n",
       "    .dataframe tbody tr th {\n",
       "        vertical-align: top;\n",
       "    }\n",
       "\n",
       "    .dataframe thead th {\n",
       "        text-align: right;\n",
       "    }\n",
       "</style>\n",
       "<table border=\"1\" class=\"dataframe\">\n",
       "  <thead>\n",
       "    <tr style=\"text-align: right;\">\n",
       "      <th></th>\n",
       "      <th>sentence</th>\n",
       "      <th>emotion</th>\n",
       "    </tr>\n",
       "  </thead>\n",
       "  <tbody>\n",
       "    <tr>\n",
       "      <th>0</th>\n",
       "      <td>요즘 부모님과 많이 부딪혀.</td>\n",
       "      <td>0</td>\n",
       "    </tr>\n",
       "    <tr>\n",
       "      <th>1</th>\n",
       "      <td>엄마가 결국 집을 나갔어. 너무 너무 슬퍼.</td>\n",
       "      <td>1</td>\n",
       "    </tr>\n",
       "    <tr>\n",
       "      <th>2</th>\n",
       "      <td>학교에서 한 친구를 괴롭히는 무리에게 그만하라고 했어.</td>\n",
       "      <td>2</td>\n",
       "    </tr>\n",
       "    <tr>\n",
       "      <th>3</th>\n",
       "      <td>이번에 팀장님이 간단한 조사 업무를 부탁하셨는데 내가 잘못 처리했어. 너무 절망적이야.</td>\n",
       "      <td>3</td>\n",
       "    </tr>\n",
       "    <tr>\n",
       "      <th>4</th>\n",
       "      <td>남편이 이혼할 때 위자료를 주지 않으려고 변호사를 고용했어.</td>\n",
       "      <td>0</td>\n",
       "    </tr>\n",
       "    <tr>\n",
       "      <th>...</th>\n",
       "      <td>...</td>\n",
       "      <td>...</td>\n",
       "    </tr>\n",
       "    <tr>\n",
       "      <th>5125</th>\n",
       "      <td>부동산 임대 소득으로 현재 여유롭게 살 수 있어서 좋단다.</td>\n",
       "      <td>5</td>\n",
       "    </tr>\n",
       "    <tr>\n",
       "      <th>5126</th>\n",
       "      <td>폐결핵은 이미 완치된 것 같은데 약을 한 달이나 더 먹으라고 하네? 아직 안 나은 ...</td>\n",
       "      <td>2</td>\n",
       "    </tr>\n",
       "    <tr>\n",
       "      <th>5127</th>\n",
       "      <td>연애하고 싶은데 소개팅만 나가면 꽝이야. 이러다가 난 결혼 못 하고 늙어 죽을 거야.</td>\n",
       "      <td>0</td>\n",
       "    </tr>\n",
       "    <tr>\n",
       "      <th>5128</th>\n",
       "      <td>은행 대출이 막혀서 생활비를 구할 수가 없어. 이제 어떻게 살아야 하나 막막해.</td>\n",
       "      <td>0</td>\n",
       "    </tr>\n",
       "    <tr>\n",
       "      <th>5129</th>\n",
       "      <td>자식들은 키워 준 은혜도 모르고 내게 오지도 않네. 너무 외롭고 슬퍼.</td>\n",
       "      <td>0</td>\n",
       "    </tr>\n",
       "  </tbody>\n",
       "</table>\n",
       "<p>5130 rows × 2 columns</p>\n",
       "</div>"
      ],
      "text/plain": [
       "                                               sentence emotion\n",
       "0                                       요즘 부모님과 많이 부딪혀.       0\n",
       "1                              엄마가 결국 집을 나갔어. 너무 너무 슬퍼.       1\n",
       "2                        학교에서 한 친구를 괴롭히는 무리에게 그만하라고 했어.       2\n",
       "3      이번에 팀장님이 간단한 조사 업무를 부탁하셨는데 내가 잘못 처리했어. 너무 절망적이야.       3\n",
       "4                     남편이 이혼할 때 위자료를 주지 않으려고 변호사를 고용했어.       0\n",
       "...                                                 ...     ...\n",
       "5125                   부동산 임대 소득으로 현재 여유롭게 살 수 있어서 좋단다.       5\n",
       "5126  폐결핵은 이미 완치된 것 같은데 약을 한 달이나 더 먹으라고 하네? 아직 안 나은 ...       2\n",
       "5127    연애하고 싶은데 소개팅만 나가면 꽝이야. 이러다가 난 결혼 못 하고 늙어 죽을 거야.       0\n",
       "5128       은행 대출이 막혀서 생활비를 구할 수가 없어. 이제 어떻게 살아야 하나 막막해.       0\n",
       "5129            자식들은 키워 준 은혜도 모르고 내게 오지도 않네. 너무 외롭고 슬퍼.       0\n",
       "\n",
       "[5130 rows x 2 columns]"
      ]
     },
     "execution_count": 8,
     "metadata": {},
     "output_type": "execute_result"
    }
   ],
   "source": [
    "DF"
   ]
  },
  {
   "cell_type": "code",
   "execution_count": 12,
   "id": "5bc0da54",
   "metadata": {},
   "outputs": [],
   "source": [
    "DF.to_excel('./data/valid.xlsx', index=False)"
   ]
  },
  {
   "cell_type": "code",
   "execution_count": 13,
   "id": "8520243c",
   "metadata": {},
   "outputs": [],
   "source": [
    "DF.to_csv('./data/valid.csv', index=False)"
   ]
  },
  {
   "cell_type": "code",
   "execution_count": null,
   "id": "b0743ae8",
   "metadata": {},
   "outputs": [],
   "source": []
  },
  {
   "cell_type": "markdown",
   "id": "2b25656f",
   "metadata": {},
   "source": [
    "- 한글전처리 "
   ]
  },
  {
   "cell_type": "code",
   "execution_count": 14,
   "id": "cf32407a",
   "metadata": {},
   "outputs": [],
   "source": [
    "import re"
   ]
  },
  {
   "cell_type": "code",
   "execution_count": 15,
   "id": "c28e4987",
   "metadata": {},
   "outputs": [],
   "source": [
    "# 텍스트 정제 함수\n",
    "def text_cleaning(text):\n",
    "    hangul = re.compile('[^ ㄱ - | 가-힣]+')\n",
    "    result = hangul.sub('',text)\n",
    "    return result"
   ]
  },
  {
   "cell_type": "code",
   "execution_count": 16,
   "id": "41eeb6f2",
   "metadata": {},
   "outputs": [
    {
     "data": {
      "text/html": [
       "<div>\n",
       "<style scoped>\n",
       "    .dataframe tbody tr th:only-of-type {\n",
       "        vertical-align: middle;\n",
       "    }\n",
       "\n",
       "    .dataframe tbody tr th {\n",
       "        vertical-align: top;\n",
       "    }\n",
       "\n",
       "    .dataframe thead th {\n",
       "        text-align: right;\n",
       "    }\n",
       "</style>\n",
       "<table border=\"1\" class=\"dataframe\">\n",
       "  <thead>\n",
       "    <tr style=\"text-align: right;\">\n",
       "      <th></th>\n",
       "      <th>emotion</th>\n",
       "      <th>ko_sentence</th>\n",
       "    </tr>\n",
       "  </thead>\n",
       "  <tbody>\n",
       "    <tr>\n",
       "      <th>0</th>\n",
       "      <td>0</td>\n",
       "      <td>요즘 부모님과 많이 부딪혀</td>\n",
       "    </tr>\n",
       "    <tr>\n",
       "      <th>1</th>\n",
       "      <td>1</td>\n",
       "      <td>엄마가 결국 집을 나갔어 너무 너무 슬퍼</td>\n",
       "    </tr>\n",
       "    <tr>\n",
       "      <th>2</th>\n",
       "      <td>2</td>\n",
       "      <td>학교에서 한 친구를 괴롭히는 무리에게 그만하라고 했어</td>\n",
       "    </tr>\n",
       "    <tr>\n",
       "      <th>3</th>\n",
       "      <td>3</td>\n",
       "      <td>이번에 팀장님이 간단한 조사 업무를 부탁하셨는데 내가 잘못 처리했어 너무 절망적이야</td>\n",
       "    </tr>\n",
       "    <tr>\n",
       "      <th>4</th>\n",
       "      <td>0</td>\n",
       "      <td>남편이 이혼할 때 위자료를 주지 않으려고 변호사를 고용했어</td>\n",
       "    </tr>\n",
       "  </tbody>\n",
       "</table>\n",
       "</div>"
      ],
      "text/plain": [
       "  emotion                                     ko_sentence\n",
       "0       0                                  요즘 부모님과 많이 부딪혀\n",
       "1       1                          엄마가 결국 집을 나갔어 너무 너무 슬퍼\n",
       "2       2                   학교에서 한 친구를 괴롭히는 무리에게 그만하라고 했어\n",
       "3       3  이번에 팀장님이 간단한 조사 업무를 부탁하셨는데 내가 잘못 처리했어 너무 절망적이야\n",
       "4       0                남편이 이혼할 때 위자료를 주지 않으려고 변호사를 고용했어"
      ]
     },
     "execution_count": 16,
     "metadata": {},
     "output_type": "execute_result"
    }
   ],
   "source": [
    "DF['ko_sentence'] = DF['sentence'].apply(lambda x: text_cleaning(x))\n",
    "del DF['sentence']\n",
    "\n",
    "DF.head()"
   ]
  },
  {
   "cell_type": "code",
   "execution_count": 17,
   "id": "a2abca33",
   "metadata": {},
   "outputs": [],
   "source": [
    "DF.to_excel('./data/valid_ko.xlsx', index=False)"
   ]
  },
  {
   "cell_type": "code",
   "execution_count": 18,
   "id": "4ecfb377",
   "metadata": {},
   "outputs": [],
   "source": [
    "DF.to_csv('./data/valid_ko.csv', index=False)"
   ]
  },
  {
   "cell_type": "code",
   "execution_count": null,
   "id": "ffe7588a",
   "metadata": {},
   "outputs": [],
   "source": []
  }
 ],
 "metadata": {
  "kernelspec": {
   "display_name": "nlp",
   "language": "python",
   "name": "nlp"
  },
  "language_info": {
   "codemirror_mode": {
    "name": "ipython",
    "version": 3
   },
   "file_extension": ".py",
   "mimetype": "text/x-python",
   "name": "python",
   "nbconvert_exporter": "python",
   "pygments_lexer": "ipython3",
   "version": "3.10.4"
  }
 },
 "nbformat": 4,
 "nbformat_minor": 5
}
